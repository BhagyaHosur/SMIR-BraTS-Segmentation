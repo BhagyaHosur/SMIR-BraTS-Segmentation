{
 "cells": [
  {
   "cell_type": "code",
   "execution_count": 4,
   "metadata": {
    "collapsed": true
   },
   "outputs": [],
   "source": [
    "import xgboost as xgb"
   ]
  },
  {
   "cell_type": "code",
   "execution_count": 5,
   "metadata": {},
   "outputs": [
    {
     "name": "stdout",
     "output_type": "stream",
     "text": [
      "Best: -0.103279 using {'learning_rate': 0.1, 'n_estimators': 500}\n",
      "-0.687677 (0.000677) with: {'learning_rate': 0.0001, 'n_estimators': 100}\n",
      "-0.682326 (0.001324) with: {'learning_rate': 0.0001, 'n_estimators': 200}\n",
      "-0.677079 (0.001959) with: {'learning_rate': 0.0001, 'n_estimators': 300}\n",
      "-0.671930 (0.002578) with: {'learning_rate': 0.0001, 'n_estimators': 400}\n",
      "-0.666885 (0.003185) with: {'learning_rate': 0.0001, 'n_estimators': 500}\n",
      "-0.642676 (0.005467) with: {'learning_rate': 0.001, 'n_estimators': 100}\n",
      "-0.599821 (0.009307) with: {'learning_rate': 0.001, 'n_estimators': 200}\n",
      "-0.563240 (0.011782) with: {'learning_rate': 0.001, 'n_estimators': 300}\n",
      "-0.531603 (0.014499) with: {'learning_rate': 0.001, 'n_estimators': 400}\n",
      "-0.503703 (0.016732) with: {'learning_rate': 0.001, 'n_estimators': 500}\n",
      "-0.405057 (0.025224) with: {'learning_rate': 0.01, 'n_estimators': 100}\n",
      "-0.306454 (0.032564) with: {'learning_rate': 0.01, 'n_estimators': 200}\n",
      "-0.260198 (0.033179) with: {'learning_rate': 0.01, 'n_estimators': 300}\n",
      "-0.232232 (0.032614) with: {'learning_rate': 0.01, 'n_estimators': 400}\n",
      "-0.210246 (0.033450) with: {'learning_rate': 0.01, 'n_estimators': 500}\n",
      "-0.149230 (0.032629) with: {'learning_rate': 0.1, 'n_estimators': 100}\n",
      "-0.119728 (0.035580) with: {'learning_rate': 0.1, 'n_estimators': 200}\n",
      "-0.111505 (0.037973) with: {'learning_rate': 0.1, 'n_estimators': 300}\n",
      "-0.106051 (0.038922) with: {'learning_rate': 0.1, 'n_estimators': 400}\n",
      "-0.103279 (0.039967) with: {'learning_rate': 0.1, 'n_estimators': 500}\n"
     ]
    }
   ],
   "source": [
    "from pandas import read_csv\n",
    "from xgboost import XGBClassifier\n",
    "from sklearn.model_selection import GridSearchCV\n",
    "from sklearn.model_selection import StratifiedKFold\n",
    "from sklearn.preprocessing import LabelEncoder\n",
    "import matplotlib\n",
    "matplotlib.use('Agg')\n",
    "from matplotlib import pyplot\n",
    "import numpy\n",
    "# load data\n",
    "data = read_csv('Data.csv')\n",
    "dataset = data.values\n",
    "# split data into X and y\n",
    "X = dataset[:,0:36]\n",
    "y = dataset[:,36]\n",
    "# encode string class values as integers\n",
    "label_encoded_y = LabelEncoder().fit_transform(y)\n",
    "# grid search\n",
    "model = XGBClassifier()\n",
    "n_estimators = [100, 200, 300, 400, 500]\n",
    "learning_rate = [0.0001, 0.001, 0.01, 0.1]\n",
    "param_grid = dict(learning_rate=learning_rate, n_estimators=n_estimators)\n",
    "kfold = StratifiedKFold(n_splits=10, shuffle=True, random_state=7)\n",
    "grid_search = GridSearchCV(model, param_grid, scoring=\"neg_log_loss\", n_jobs=-1, cv=kfold)\n",
    "grid_result = grid_search.fit(X, label_encoded_y)\n",
    "# summarize results\n",
    "print(\"Best: %f using %s\" % (grid_result.best_score_, grid_result.best_params_))\n",
    "means = grid_result.cv_results_['mean_test_score']\n",
    "stds = grid_result.cv_results_['std_test_score']\n",
    "params = grid_result.cv_results_['params']\n",
    "for mean, stdev, param in zip(means, stds, params):\n",
    "\tprint(\"%f (%f) with: %r\" % (mean, stdev, param))\n",
    "# plot results\n",
    "scores = numpy.array(means).reshape(len(learning_rate), len(n_estimators))\n",
    "for i, value in enumerate(learning_rate):\n",
    "    pyplot.plot(n_estimators, scores[i], label='learning_rate: ' + str(value))\n",
    "pyplot.legend()\n",
    "pyplot.xlabel('n_estimators')\n",
    "pyplot.ylabel('Log Loss')\n",
    "pyplot.savefig('n_estimators_vs_learning_rate.png')"
   ]
  },
  {
   "cell_type": "code",
   "execution_count": 33,
   "metadata": {},
   "outputs": [
    {
     "name": "stderr",
     "output_type": "stream",
     "text": [
      "C:\\ProgramData\\Anaconda3\\lib\\site-packages\\matplotlib\\__init__.py:1405: UserWarning: \n",
      "This call to matplotlib.use() has no effect because the backend has already\n",
      "been chosen; matplotlib.use() must be called *before* pylab, matplotlib.pyplot,\n",
      "or matplotlib.backends is imported for the first time.\n",
      "\n",
      "  warnings.warn(_use_error_msg)\n"
     ]
    },
    {
     "name": "stdout",
     "output_type": "stream",
     "text": [
      "Best: -0.034247 using {'learning_rate': 0.01, 'n_estimators': 500}\n",
      "-0.683663 (0.000204) with: {'learning_rate': 0.0001, 'n_estimators': 100}\n",
      "-0.674359 (0.000403) with: {'learning_rate': 0.0001, 'n_estimators': 200}\n",
      "-0.665236 (0.000598) with: {'learning_rate': 0.0001, 'n_estimators': 300}\n",
      "-0.656285 (0.000793) with: {'learning_rate': 0.0001, 'n_estimators': 400}\n",
      "-0.647503 (0.000986) with: {'learning_rate': 0.0001, 'n_estimators': 500}\n",
      "-0.605922 (0.001926) with: {'learning_rate': 0.001, 'n_estimators': 100}\n",
      "-0.533137 (0.003640) with: {'learning_rate': 0.001, 'n_estimators': 200}\n",
      "-0.471663 (0.005206) with: {'learning_rate': 0.001, 'n_estimators': 300}\n",
      "-0.419192 (0.006640) with: {'learning_rate': 0.001, 'n_estimators': 400}\n",
      "-0.374064 (0.007962) with: {'learning_rate': 0.001, 'n_estimators': 500}\n",
      "-0.221601 (0.013699) with: {'learning_rate': 0.01, 'n_estimators': 100}\n",
      "-0.094125 (0.020416) with: {'learning_rate': 0.01, 'n_estimators': 200}\n",
      "-0.051732 (0.025103) with: {'learning_rate': 0.01, 'n_estimators': 300}\n",
      "-0.037542 (0.027985) with: {'learning_rate': 0.01, 'n_estimators': 400}\n",
      "-0.034247 (0.030957) with: {'learning_rate': 0.01, 'n_estimators': 500}\n",
      "-0.042371 (0.041809) with: {'learning_rate': 0.1, 'n_estimators': 100}\n",
      "-0.048710 (0.046056) with: {'learning_rate': 0.1, 'n_estimators': 200}\n",
      "-0.052332 (0.048277) with: {'learning_rate': 0.1, 'n_estimators': 300}\n",
      "-0.054903 (0.049501) with: {'learning_rate': 0.1, 'n_estimators': 400}\n",
      "-0.056928 (0.050392) with: {'learning_rate': 0.1, 'n_estimators': 500}\n"
     ]
    },
    {
     "data": {
      "image/png": "[encoded data removed]",
      "text/plain": [
       "<matplotlib.figure.Figure at 0x2a7a6bddef0>"
      ]
     },
     "metadata": {},
     "output_type": "display_data"
    }
   ],
   "source": [
    "from pandas import read_csv\n",
    "from xgboost import XGBClassifier\n",
    "from sklearn.model_selection import GridSearchCV\n",
    "from sklearn.model_selection import StratifiedKFold\n",
    "from sklearn.preprocessing import LabelEncoder\n",
    "import matplotlib\n",
    "matplotlib.use('Agg')\n",
    "from matplotlib import pyplot\n",
    "import numpy\n",
    "# load data\n",
    "data = read_csv('Data.csv')\n",
    "dataset = data.values\n",
    "# split data into X and y\n",
    "X = dataset[:,0:29]\n",
    "y = dataset[:,29]\n",
    "# encode string class values as integers\n",
    "label_encoded_y = LabelEncoder().fit_transform(y)\n",
    "# grid search\n",
    "model = XGBClassifier()\n",
    "n_estimators = [100, 200, 300, 400, 500]\n",
    "learning_rate = [0.0001, 0.001, 0.01, 0.1]\n",
    "param_grid = dict(learning_rate=learning_rate, n_estimators=n_estimators)\n",
    "kfold = StratifiedKFold(n_splits=10, shuffle=True, random_state=7)\n",
    "grid_search = GridSearchCV(model, param_grid, scoring=\"neg_log_loss\", n_jobs=-1, cv=kfold)\n",
    "grid_result = grid_search.fit(X, label_encoded_y)\n",
    "# summarize results\n",
    "print(\"Best: %f using %s\" % (grid_result.best_score_, grid_result.best_params_))\n",
    "means = grid_result.cv_results_['mean_test_score']\n",
    "stds = grid_result.cv_results_['std_test_score']\n",
    "params = grid_result.cv_results_['params']\n",
    "for mean, stdev, param in zip(means, stds, params):\n",
    "\tprint(\"%f (%f) with: %r\" % (mean, stdev, param))\n",
    "# plot results\n",
    "scores = numpy.array(means).reshape(len(learning_rate), len(n_estimators))\n",
    "for i, value in enumerate(learning_rate):\n",
    "    pyplot.plot(n_estimators, scores[i], label='learning_rate: ' + str(value))\n",
    "pyplot.legend()\n",
    "pyplot.xlabel('n_estimators')\n",
    "pyplot.ylabel('Log Loss')\n",
    "pyplot.savefig('n_estimators_vs_learning_rate.png')"
   ]
  }
 ],
 "metadata": {
  "kernelspec": {
   "display_name": "Python 3",
   "language": "python",
   "name": "python3"
  },
  "language_info": {
   "codemirror_mode": {
    "name": "ipython",
    "version": 3
   },
   "file_extension": ".py",
   "mimetype": "text/x-python",
   "name": "python",
   "nbconvert_exporter": "python",
   "pygments_lexer": "ipython3",
   "version": "3.7.3"
  }
 },
 "nbformat": 4,
 "nbformat_minor": 2
}
